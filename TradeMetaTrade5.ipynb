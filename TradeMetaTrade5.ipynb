{
 "cells": [
  {
   "cell_type": "code",
   "execution_count": 1,
   "id": "e871e003-23d1-486c-85f8-e7172db52cf4",
   "metadata": {},
   "outputs": [],
   "source": [
    "from MetaTrade5 import  MT"
   ]
  },
  {
   "cell_type": "code",
   "execution_count": 2,
   "id": "62cd4112",
   "metadata": {},
   "outputs": [],
   "source": [
    "login = '51560509'\n",
    "password = 'C09mYA5@^F'\n",
    "server = 'ICMarketsSC-Demo'\n",
    "symbol = 'ETHUSD'\n",
    "volume = 0.01"
   ]
  },
  {
   "cell_type": "code",
   "execution_count": 3,
   "id": "49d43a4c",
   "metadata": {},
   "outputs": [],
   "source": [
    "#ประกาศตัวแปร\n",
    "Trade = MT(symbol=symbol,volume=volume)"
   ]
  },
  {
   "cell_type": "code",
   "execution_count": 4,
   "id": "1ec13920",
   "metadata": {},
   "outputs": [],
   "source": [
    "#เข้าโปรแกรม MT5 และทำการ login\n",
    "Trade.Initialize(login,password,server)"
   ]
  },
  {
   "cell_type": "code",
   "execution_count": 5,
   "id": "dd2d1633",
   "metadata": {},
   "outputs": [],
   "source": [
    "###เครื่องมือใช้งาน###"
   ]
  },
  {
   "cell_type": "code",
   "execution_count": 6,
   "id": "e8e485bd",
   "metadata": {},
   "outputs": [
    {
     "name": "stdout",
     "output_type": "stream",
     "text": [
      "OrderSendResult(retcode=10009, deal=418293078, order=566525507, volume=0.01, price=2528.69, bid=2525.86, ask=2528.69, comment='Request executed', request_id=3037812066, retcode_external=0, request=TradeRequest(action=1, magic=0, order=0, symbol='ETHUSD', volume=0.01, price=2528.8, stoplimit=0.0, sl=2500.0, tp=2540.0, deviation=0, type=0, type_filling=1, type_time=0, expiration=0, comment='Python Script Buy', position=0, position_by=0))\n"
     ]
    }
   ],
   "source": [
    "#ซื้อ\n",
    "stoploss = 2500.0\n",
    "takeprofit = 2540.0\n",
    "order = Trade.OrderBuy(sl=stoploss,tp=takeprofit)"
   ]
  },
  {
   "cell_type": "code",
   "execution_count": 9,
   "id": "a4232658",
   "metadata": {},
   "outputs": [
    {
     "name": "stdout",
     "output_type": "stream",
     "text": [
      "OrderSendResult(retcode=10009, deal=418294440, order=566527008, volume=0.01, price=2524.87, bid=2524.87, ask=2527.63, comment='Request executed', request_id=3037812067, retcode_external=0, request=TradeRequest(action=1, magic=0, order=0, symbol='ETHUSD', volume=0.01, price=2525.12, stoplimit=0.0, sl=0.0, tp=0.0, deviation=0, type=1, type_filling=1, type_time=0, expiration=0, comment='Close Position', position=566525507, position_by=0))\n"
     ]
    },
    {
     "data": {
      "text/plain": [
       "OrderSendResult(retcode=10009, deal=418294440, order=566527008, volume=0.01, price=2524.87, bid=2524.87, ask=2527.63, comment='Request executed', request_id=3037812067, retcode_external=0, request=TradeRequest(action=1, magic=0, order=0, symbol='ETHUSD', volume=0.01, price=2525.12, stoplimit=0.0, sl=0.0, tp=0.0, deviation=0, type=1, type_filling=1, type_time=0, expiration=0, comment='Close Position', position=566525507, position_by=0))"
      ]
     },
     "execution_count": 9,
     "metadata": {},
     "output_type": "execute_result"
    }
   ],
   "source": [
    "#ยกเลิกซื้อ\n",
    "Trade.CancleBuy(pos=order.order)"
   ]
  },
  {
   "cell_type": "code",
   "execution_count": null,
   "id": "2adc7f82",
   "metadata": {},
   "outputs": [],
   "source": [
    "#ขาย\n",
    "stoploss = 2265.0\n",
    "takeprofit = 2250.0\n",
    "Trade.OrderSell(sl=stoploss,tp=takeprofit)"
   ]
  },
  {
   "cell_type": "code",
   "execution_count": null,
   "id": "88138ef1",
   "metadata": {},
   "outputs": [],
   "source": [
    "#ยกเลิกขาย\n",
    "Trade.CancleSell(pos=order.order)"
   ]
  },
  {
   "cell_type": "code",
   "execution_count": null,
   "id": "4031a7a9",
   "metadata": {},
   "outputs": [],
   "source": []
  },
  {
   "cell_type": "code",
   "execution_count": null,
   "id": "85589b5c",
   "metadata": {},
   "outputs": [],
   "source": []
  },
  {
   "cell_type": "code",
   "execution_count": null,
   "id": "0893cb8f",
   "metadata": {},
   "outputs": [],
   "source": []
  },
  {
   "cell_type": "code",
   "execution_count": null,
   "id": "52ff2e2a",
   "metadata": {},
   "outputs": [],
   "source": []
  },
  {
   "cell_type": "code",
   "execution_count": null,
   "id": "e42f7b3c",
   "metadata": {},
   "outputs": [],
   "source": []
  }
 ],
 "metadata": {
  "kernelspec": {
   "display_name": "Python 3 (ipykernel)",
   "language": "python",
   "name": "python3"
  },
  "language_info": {
   "codemirror_mode": {
    "name": "ipython",
    "version": 3
   },
   "file_extension": ".py",
   "mimetype": "text/x-python",
   "name": "python",
   "nbconvert_exporter": "python",
   "pygments_lexer": "ipython3",
   "version": "3.11.5"
  }
 },
 "nbformat": 4,
 "nbformat_minor": 5
}
