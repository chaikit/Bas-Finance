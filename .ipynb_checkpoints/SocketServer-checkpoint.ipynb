{
 "cells": [
  {
   "cell_type": "code",
   "execution_count": 1,
   "id": "f144ce8c-a531-4a6b-8d1a-429c999d2848",
   "metadata": {},
   "outputs": [],
   "source": [
    "import socket, numpy as np\n",
    "from sklearn.linear_model import LinearRegression"
   ]
  },
  {
   "cell_type": "code",
   "execution_count": 2,
   "id": "57aca05c-fdde-4bd8-8c10-148b66efce92",
   "metadata": {},
   "outputs": [],
   "source": [
    "#SERVER\n",
    "class socketserver:\n",
    "    def __init__(self, address = '', port = 9090):\n",
    "        #สร้าง socket\n",
    "        self.sock = socket.socket(socket.AF_INET, socket.SOCK_STREAM)\n",
    "        self.address = address\n",
    "        self.port = port\n",
    "        #กำหนด ip และ port ให้ socket\n",
    "        self.sock.bind((self.address, self.port))\n",
    "        self.cummdata = ''\n",
    "        \n",
    "    def recvmsg(self):\n",
    "        #กำหนดให้ socket รับข้อมูลได้ทีละข้อมูล\n",
    "        self.sock.listen(1)\n",
    "        #เก็บค่าตัวแปร มาหลังจากทำการเชื่อมต่อกับ client\n",
    "        self.conn, self.addr = self.sock.accept()\n",
    "        print('connected to', self.addr)\n",
    "        self.cummdata = ''\n",
    "\n",
    "        while True:\n",
    "            #ข้อมูลที่ได้รับเข้ามา\n",
    "            data = self.conn.recv(10000)\n",
    "            self.cummdata+=data.decode(\"utf-8\")\n",
    "            if not data:\n",
    "                break  \n",
    "            #ส่งข้อมูลกลับไป\n",
    "            self.conn.send(bytes(calcregr(self.cummdata), \"utf-8\"))\n",
    "            return self.cummdata\n",
    "            \n",
    "    def __del__(self):\n",
    "        self.sock.close()"
   ]
  },
  {
   "cell_type": "code",
   "execution_count": 3,
   "id": "2ca9618b-be9b-40c4-9553-2e63be697164",
   "metadata": {},
   "outputs": [],
   "source": [
    "def calcregr(msg = ''):\n",
    "    chartdata = np.fromstring(msg, dtype=float, sep= ' ') \n",
    "    Y = np.array(chartdata).reshape(-1,1)\n",
    "    X = np.array(np.arange(len(chartdata))).reshape(-1,1)\n",
    "        \n",
    "    lr = LinearRegression()\n",
    "    lr.fit(X, Y)\n",
    "    Y_pred = lr.predict(X)\n",
    "    type(Y_pred)\n",
    "    P = Y_pred.astype(str).item(-1) + ' ' + Y_pred.astype(str).item(0)\n",
    "    print(P)\n",
    "    return str(P)"
   ]
  },
  {
   "cell_type": "code",
   "execution_count": 4,
   "id": "95f412c3-0dd1-4779-a4e5-e72aedc304a2",
   "metadata": {},
   "outputs": [],
   "source": [
    "serv = socketserver('192.168.1.70', 9090)\n",
    "while True:  \n",
    "    msg = serv.recvmsg()\n"
   ]
  },
  {
   "cell_type": "code",
   "execution_count": null,
   "id": "0662d058-01d4-448d-a020-9daf4e120aa1",
   "metadata": {},
   "outputs": [],
   "source": []
  }
 ],
 "metadata": {
  "kernelspec": {
   "display_name": "Python 3 (ipykernel)",
   "language": "python",
   "name": "python3"
  },
  "language_info": {
   "codemirror_mode": {
    "name": "ipython",
    "version": 3
   },
   "file_extension": ".py",
   "mimetype": "text/x-python",
   "name": "python",
   "nbconvert_exporter": "python",
   "pygments_lexer": "ipython3",
   "version": "3.11.5"
  }
 },
 "nbformat": 4,
 "nbformat_minor": 5
}
